{
 "cells": [
  {
   "cell_type": "markdown",
   "id": "538c0bd2",
   "metadata": {},
   "source": [
    "# 02_add_crosslinks.ipynb\n",
    "\n",
    "Load the baseline model, load crosslinks, and run guided refinement (toy optimizer)."
   ]
  },
  {
   "cell_type": "code",
   "execution_count": null,
   "id": "a0ef26b7",
   "metadata": {},
   "outputs": [],
   "source": [
    "from pathlib import Path\n",
    "import pandas as pd\n",
    "import torch\n",
    "from main import run_af3\n",
    "from restraints import crosslink_loss\n",
    "\n",
    "# Load sequences and baseline coords\n",
    "fasta = '../data/sequences/barnase_barstar.fasta'\n",
    "coords = run_af3(fasta)\n",
    "\n",
    "# Load crosslinks\n",
    "df = pd.read_csv('../data/crosslinks/barnase_barstar.tsv', sep='\\t')\n",
    "crosslinks = df.to_records(index=False)\n",
    "\n",
    "# Prepare optimizable coords\n",
    "coords_opt = {c: coords[c].clone().requires_grad_(True) for c in coords}\n",
    "optimizer = torch.optim.Adam([coords_opt[c] for c in coords_opt], lr=1e-3)\n",
    "\n",
    "# Run a short guided optimization and print loss\n",
    "for step in range(100):\n",
    "    optimizer.zero_grad()\n",
    "    loss = crosslink_loss(coords_opt, crosslinks, weight=10.0)\n",
    "    loss.backward()\n",
    "    optimizer.step()\n",
    "    if step % 20 == 0:\n",
    "        print(f'Step {step} loss {loss.item():.3f}')\n",
    "\n",
    "# Save guided output\n",
    "out_pdb = '../outputs/run_crosslink_guided.pdb'\n",
    "with open(out_pdb, 'w') as f:\n",
    "    atom_id = 1\n",
    "    for chain, xyz in coords_opt.items():\n",
    "        for i, (x,y,z) in enumerate(xyz.detach().numpy(), start=1):\n",
    "            f.write(f\"ATOM  {atom_id:5d}  CA  ALA {chain}{i:4d}    {x:8.3f}{y:8.3f}{z:8.3f}\\n\")\n",
    "            atom_id += 1\n",
    "\n",
    "print('Saved crosslink-guided PDB to', out_pdb)"
   ]
  }
 ],
 "metadata": {},
 "nbformat": 4,
 "nbformat_minor": 5
}
