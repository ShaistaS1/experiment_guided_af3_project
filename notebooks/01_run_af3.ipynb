{
 "cells": [
  {
   "cell_type": "markdown",
   "id": "da844400",
   "metadata": {},
   "source": [
    "# 01_run_af3.ipynb\n",
    "\n",
    "Run a placeholder AlphaFold3 inference (toy) and save coordinates to PDB.\n",
    "\n",
    "This notebook uses the `main.py` placeholder `run_af3` function included in the project. If you have Protenix/AlphaFold3 installed, replace the placeholder function with the real call."
   ]
  },
  {
   "cell_type": "code",
   "execution_count": null,
   "id": "194e899a",
   "metadata": {},
   "outputs": [],
   "source": [
    "# Install prerequisites (uncomment if you need to install in the notebook environment)\n",
    "# !pip install -r ../requirements.txt"
   ]
  },
  {
   "cell_type": "code",
   "execution_count": null,
   "id": "1d493b60",
   "metadata": {},
   "outputs": [],
   "source": [
    "from pathlib import Path\n",
    "import torch\n",
    "import numpy as np\n",
    "from main import run_af3\n",
    "\n",
    "# Paths\n",
    "fasta = '../data/sequences/barnase_barstar.fasta'\n",
    "out_pdb = '../outputs/run_af3_baseline.pdb'\n",
    "Path('../outputs').mkdir(exist_ok=True, parents=True)\n",
    "\n",
    "# Run placeholder AF3 (random coords if Protenix not installed)\n",
    "coords = run_af3(fasta)\n",
    "\n",
    "# Save as simple CA-only PDB\n",
    "with open(out_pdb, 'w') as f:\n",
    "    atom_id = 1\n",
    "    for chain, xyz in coords.items():\n",
    "        for i, (x,y,z) in enumerate(xyz.detach().numpy(), start=1):\n",
    "            f.write(f\"ATOM  {atom_id:5d}  CA  ALA {chain}{i:4d}    {x:8.3f}{y:8.3f}{z:8.3f}\\n\")\n",
    "            atom_id += 1\n",
    "\n",
    "print('Saved baseline PDB to', out_pdb)"
   ]
  }
 ],
 "metadata": {},
 "nbformat": 4,
 "nbformat_minor": 5
}
